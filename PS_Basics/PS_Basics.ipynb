{
 "cells": [
  {
   "cell_type": "markdown",
   "metadata": {
    "deletable": false,
    "editable": false,
    "nbgrader": {
     "checksum": "2c9a2753c6b7631c02efd300dc9e9bea",
     "grade": false,
     "grade_id": "cell-b3af53f6bdd5d700",
     "locked": true,
     "schema_version": 1,
     "solution": false
    }
   },
   "source": [
    "# Introduction to Python - Basics\n",
    "\n",
    "## Problem Set - Solutions"
   ]
  },
  {
   "cell_type": "code",
   "execution_count": null,
   "metadata": {
    "deletable": false,
    "editable": false,
    "nbgrader": {
     "checksum": "c4eaa1a257201ac1f4bfa058abde2a31",
     "grade": false,
     "grade_id": "cell-519c630476400d4e",
     "locked": true,
     "schema_version": 1,
     "solution": false
    }
   },
   "outputs": [],
   "source": [
    "# Author: Alex Schmitt (schmitt@ifo.de)\n",
    "\n",
    "import datetime\n",
    "print('Last update: ' + str(datetime.datetime.today()))"
   ]
  },
  {
   "cell_type": "markdown",
   "metadata": {
    "deletable": false,
    "editable": false,
    "nbgrader": {
     "checksum": "0bcd7fe263f78766211b2b20de7ded3b",
     "grade": false,
     "grade_id": "cell-e3474261e55dbcf6",
     "locked": true,
     "schema_version": 1,
     "solution": false
    }
   },
   "source": [
    "## Question 1\n",
    "\n",
    "Write a program which prompts the user for a Celsius temperature using the **input()** function. Convert the temperature to Fahrenheit and print out the converted temperature.\n",
    "\n",
    "Hint: \n",
    "\\begin{equation}\n",
    "    T_{F} = 1.8 \\cdot T_C + 32 \n",
    "\\end{equation}\n"
   ]
  },
  {
   "cell_type": "code",
   "execution_count": null,
   "metadata": {
    "deletable": false,
    "nbgrader": {
     "checksum": "022384e909d4c02c97ef380e3d1f9390",
     "grade": false,
     "grade_id": "cell-8778816ba5711b0e",
     "locked": false,
     "schema_version": 1,
     "solution": true
    }
   },
   "outputs": [],
   "source": [
    "T_C = input(\"Enter Temperature in degree Celsius:\")\n",
    "T_F = 1.8 * float(T_C) + 32\n",
    "print(\"{} degree Celsius corresponds to {} degree Fahrenheit.\".format(T_C, T_F))"
   ]
  },
  {
   "cell_type": "markdown",
   "metadata": {
    "deletable": false,
    "editable": false,
    "nbgrader": {
     "checksum": "d2028570a9002dea0019c45693c5b078",
     "grade": false,
     "grade_id": "cell-6661e6dd07d57180",
     "locked": true,
     "schema_version": 1,
     "solution": false
    }
   },
   "source": [
    "## Question 2\n",
    "\n",
    "Suppose you want to use Python to keep track of the points of the clubs in the German football Bundesliga. For example, you have the following information:\n",
    "    - Borussia Dortmund: 20 points\n",
    "    - FC Bayern: 16 points\n",
    "    - FC Schalke: 6 points\n",
    "    \n",
    "(a) Based on what we have learned so far, use Python arrays to store this information, using one array for clubs (**Clubs**) and one array for points (**Points**). Think about which array types may be suitable.\n",
    "\n",
    "(b) Add the following information to your arrays: FC Augsburg, 9 points.\n",
    "\n",
    "(c) Use the arrays to write to the screen how many points a given club has."
   ]
  },
  {
   "cell_type": "markdown",
   "metadata": {
    "deletable": false,
    "nbgrader": {
     "checksum": "d1ad42a5509a8216d1764b0f88a1d5d9",
     "grade": true,
     "grade_id": "cell-6c6e52c26f4334d7",
     "locked": false,
     "points": 0,
     "schema_version": 1,
     "solution": true
    }
   },
   "source": [
    "YOUR ANSWER HERE"
   ]
  },
  {
   "cell_type": "code",
   "execution_count": null,
   "metadata": {
    "deletable": false,
    "nbgrader": {
     "checksum": "ff74410105a7f01fa4eb31e93821dd11",
     "grade": false,
     "grade_id": "cell-ef5f4f97e46f4a0d",
     "locked": false,
     "schema_version": 1,
     "solution": true
    }
   },
   "outputs": [],
   "source": [
    "## (a)\n",
    "Clubs =  [\"Borussia Dortmund\", \"FC Bayern\", \"FC Schalke\"]\n",
    "Points = [20, 16, 6]"
   ]
  },
  {
   "cell_type": "code",
   "execution_count": null,
   "metadata": {
    "deletable": false,
    "editable": false,
    "nbgrader": {
     "checksum": "191ea423d8cf36592a979098fb24f42c",
     "grade": true,
     "grade_id": "cell-c6b0f3f2cb7fba38",
     "locked": true,
     "points": 1,
     "schema_version": 1,
     "solution": false
    }
   },
   "outputs": [],
   "source": []
  },
  {
   "cell_type": "code",
   "execution_count": null,
   "metadata": {
    "deletable": false,
    "nbgrader": {
     "checksum": "4f0d2be8eeaf83804c8147b68c2520f3",
     "grade": false,
     "grade_id": "cell-abc897fbf853cc45",
     "locked": false,
     "schema_version": 1,
     "solution": true
    }
   },
   "outputs": [],
   "source": [
    "## (b)\n",
    "# YOUR CODE HERE\n",
    "raise NotImplementedError()\n"
   ]
  },
  {
   "cell_type": "code",
   "execution_count": null,
   "metadata": {
    "deletable": false,
    "editable": false,
    "nbgrader": {
     "checksum": "b4d8a73c1c11f0a97139af6e0028cc5a",
     "grade": true,
     "grade_id": "cell-e0c72033e85790c4",
     "locked": true,
     "points": 1,
     "schema_version": 1,
     "solution": false
    }
   },
   "outputs": [],
   "source": []
  },
  {
   "cell_type": "code",
   "execution_count": null,
   "metadata": {
    "deletable": false,
    "nbgrader": {
     "checksum": "84049bc9b0d98c31418f5df93ec337ab",
     "grade": false,
     "grade_id": "cell-f49088a21831f76d",
     "locked": false,
     "schema_version": 1,
     "solution": true
    }
   },
   "outputs": [],
   "source": [
    "## (c)\n",
    "# YOUR CODE HERE\n",
    "raise NotImplementedError()"
   ]
  }
 ],
 "metadata": {
  "anaconda-cloud": {},
  "kernelspec": {
   "display_name": "Python 3",
   "language": "python",
   "name": "python3"
  },
  "language_info": {
   "codemirror_mode": {
    "name": "ipython",
    "version": 3
   },
   "file_extension": ".py",
   "mimetype": "text/x-python",
   "name": "python",
   "nbconvert_exporter": "python",
   "pygments_lexer": "ipython3",
   "version": "3.7.3"
  }
 },
 "nbformat": 4,
 "nbformat_minor": 1
}
